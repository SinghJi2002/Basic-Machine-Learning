{
 "cells": [
  {
   "cell_type": "markdown",
   "id": "f26b353b",
   "metadata": {},
   "source": [
    "# Gradient Decent"
   ]
  },
  {
   "cell_type": "code",
   "execution_count": 1,
   "id": "6df37aaa",
   "metadata": {},
   "outputs": [],
   "source": [
    "import pandas as pd\n",
    "import numpy as np\n",
    "from decimal import Decimal, getcontext\n",
    "getcontext().prec = 2"
   ]
  },
  {
   "cell_type": "code",
   "execution_count": 2,
   "id": "2835a3dd",
   "metadata": {},
   "outputs": [],
   "source": [
    "#Initial Dataset\n",
    "x=np.array([1,2,3,4,5])\n",
    "y=np.array([1,4,9,16,25])"
   ]
  },
  {
   "cell_type": "code",
   "execution_count": null,
   "id": "55093075",
   "metadata": {},
   "outputs": [],
   "source": [
    "#Initial assumptions of the parameter\n",
    "w=1\n",
    "b=1\n",
    "alpha=0.01\n",
    "\n",
    "j_history=[]\n",
    "index=0\n",
    "costFunc=costFunction(x,y,w,b)\n",
    "j_history.append(costFunc)\n",
    "index=index+1\n",
    "\n",
    "final_w,final_b=gradientDecent(x,y,w,b,alpha,index)"
   ]
  },
  {
   "cell_type": "code",
   "execution_count": 3,
   "id": "db58740e",
   "metadata": {},
   "outputs": [],
   "source": [
    "#Function of calculation of predicted values. We are using linear regression and general equation followed is f=wx+b\n",
    "def prediction_array(x,w,b):\n",
    "    y_=w*x+b\n",
    "    return(y_)"
   ]
  },
  {
   "cell_type": "code",
   "execution_count": 4,
   "id": "1c76862c",
   "metadata": {},
   "outputs": [],
   "source": [
    "#Function for calculation of cost function.\n",
    "def costFunction(x,y,w,b):\n",
    "    y_=prediction_array(x,w,b)\n",
    "    error=y_-y\n",
    "    squaredError=error**2\n",
    "    sumOfError=0\n",
    "    for i in range(0,len(squaredError),1):\n",
    "        sumOfError=sumOfError+squaredError[i]\n",
    "    costFunc=sumOfError/(2*len(y))\n",
    "    return(costFunc)"
   ]
  },
  {
   "cell_type": "code",
   "execution_count": 5,
   "id": "6f7bd2a9",
   "metadata": {},
   "outputs": [],
   "source": [
    "#Now we come to gradient decent.\n",
    "def derivative(x,y,w,b):\n",
    "    y_=prediction_array(x,w,b)\n",
    "    error=y_-y\n",
    "    sumW=0\n",
    "    sumB=0\n",
    "    for i in range(0,len(y),1):\n",
    "        sumW=sumW+error[i]*x[i]\n",
    "        sumB=sumB+error[i]\n",
    "    dj_dw=sumW/len(x)\n",
    "    dj_db=sumB/len(x)\n",
    "    return(dj_dw,dj_db)"
   ]
  },
  {
   "cell_type": "code",
   "execution_count": 6,
   "id": "114561d9",
   "metadata": {},
   "outputs": [],
   "source": [
    "#Code for gradient decent algorithm\n",
    "def gradientDecent(x,y,w,b,alpha,index):\n",
    "    print(w,b)\n",
    "    dj_dw,dj_db=derivative(x,y,w,b)\n",
    "    w=w-alpha*dj_dw\n",
    "    b=b-alpha*dj_db\n",
    "    costFunc=costFunction(x,y,w,b)\n",
    "    j_history.append(costFunc)\n",
    "    index=index+1\n",
    "    if(Decimal(j_history[index-1])==Decimal(j_history[index-2])):\n",
    "        return(w,b)\n",
    "    else:\n",
    "        return(gradientDecent(x,y,w,b,alpha,index))\n",
    "    "
   ]
  }
 ],
 "metadata": {
  "kernelspec": {
   "display_name": "Python 3 (ipykernel)",
   "language": "python",
   "name": "python3"
  },
  "language_info": {
   "codemirror_mode": {
    "name": "ipython",
    "version": 3
   },
   "file_extension": ".py",
   "mimetype": "text/x-python",
   "name": "python",
   "nbconvert_exporter": "python",
   "pygments_lexer": "ipython3",
   "version": "3.9.13"
  }
 },
 "nbformat": 4,
 "nbformat_minor": 5
}
