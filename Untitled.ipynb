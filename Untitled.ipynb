{
 "cells": [
  {
   "cell_type": "markdown",
   "id": "4a260c14",
   "metadata": {},
   "source": [
    "# This is practice lab where we will recover Gradient Decent For Multiple Features and also we will implement tricks for Feature scaling and Learning rate predictions."
   ]
  },
  {
   "cell_type": "code",
   "execution_count": 1,
   "id": "38a33813",
   "metadata": {},
   "outputs": [],
   "source": [
    "import numpy as np\n",
    "import matplotlib as plt\n",
    "np.set_printoptions(precision=2)"
   ]
  },
  {
   "cell_type": "code",
   "execution_count": 2,
   "id": "a4bf45df",
   "metadata": {},
   "outputs": [],
   "source": [
    "w_init=np.zeros(4)\n",
    "b_init=0\n",
    "x_features=np.array([[2104, 5, 1, 45], [1416, 3, 2, 40], [852, 2, 1, 35]])\n",
    "y_labels=np.array([460, 232, 178])"
   ]
  },
  {
   "cell_type": "code",
   "execution_count": 3,
   "id": "09e03634",
   "metadata": {},
   "outputs": [
    {
     "data": {
      "text/plain": [
       "(3, 4)"
      ]
     },
     "execution_count": 3,
     "metadata": {},
     "output_type": "execute_result"
    }
   ],
   "source": [
    "x_features.shape"
   ]
  },
  {
   "cell_type": "code",
   "execution_count": 4,
   "id": "e07800f6",
   "metadata": {},
   "outputs": [
    {
     "data": {
      "text/plain": [
       "3.0"
      ]
     },
     "execution_count": 4,
     "metadata": {},
     "output_type": "execute_result"
    }
   ],
   "source": [
    "np.zeros(4)[0]+3"
   ]
  },
  {
   "cell_type": "code",
   "execution_count": 5,
   "id": "1d4a546e",
   "metadata": {},
   "outputs": [],
   "source": [
    "def cost_function(x,y,w,b):\n",
    "    sum_internal=0\n",
    "    sum_overall=0\n",
    "    m=x.shape[0]\n",
    "    n=x.shape[1]\n",
    "    for i in range(0,m,1):\n",
    "        y_hat=np.dot(x[i],w)+b\n",
    "        internal_element=(y_hat-y[i])**2\n",
    "        sum_internal=sum_internal+internal_element\n",
    "    cost=sum_internal/(2*m)\n",
    "    return(cost)"
   ]
  },
  {
   "cell_type": "code",
   "execution_count": 6,
   "id": "4dad534e",
   "metadata": {},
   "outputs": [
    {
     "name": "stdout",
     "output_type": "stream",
     "text": [
      "49518.0\n"
     ]
    }
   ],
   "source": [
    "print(cost_function(x_features,y_labels,w_init,b_init))"
   ]
  },
  {
   "cell_type": "code",
   "execution_count": 7,
   "id": "4c856d14",
   "metadata": {},
   "outputs": [],
   "source": [
    "def derivatives(x,y,w,b):\n",
    "    m=x.shape[0]\n",
    "    n=x.shape[1]\n",
    "    dj_dw=np.zeros(4)\n",
    "    dj_db=0\n",
    "    for i in range(0,m,1):\n",
    "        y_hat=np.dot(x[i],w)+b\n",
    "        difference=y_hat-y[i]\n",
    "        for j in range(0,n,1):\n",
    "            dj_dw[j]=(dj_dw[j]+(difference*x[i,j]))\n",
    "        dj_db=dj_db+difference\n",
    "    dj_db=dj_db/m\n",
    "    dj_dw=dj_dw/m\n",
    "    return(dj_dw,dj_db)"
   ]
  },
  {
   "cell_type": "code",
   "execution_count": 8,
   "id": "d5bacfb5",
   "metadata": {},
   "outputs": [
    {
     "name": "stdout",
     "output_type": "stream",
     "text": [
      "[-4.83e+05 -1.12e+03 -3.67e+02 -1.21e+04] -290.0\n"
     ]
    }
   ],
   "source": [
    "a,b=derivatives(x_features,y_labels,w_init,b_init)\n",
    "print(a,b)"
   ]
  },
  {
   "cell_type": "code",
   "execution_count": 62,
   "id": "eaa6cbd0",
   "metadata": {},
   "outputs": [],
   "source": [
    "def gradient_decent(x,y,w,b,alpha,iter_nums):\n",
    "    j_hisotry=[]\n",
    "    m=x.shape[0]\n",
    "    n=x.shape[1]\n",
    "    j=0\n",
    "    j_hisotry.append((cost_function(x_features,y_labels,w,b)))\n",
    "    while(j<1000):\n",
    "        a,c=derivatives(x,y,w,b)\n",
    "        w=w-(alpha*a)\n",
    "        b=b-(alpha*c)\n",
    "        j_hisotry.append((cost_function(x_features,y_labels,w,b)))\n",
    "    return(j_hisotry,w,b)"
   ]
  },
  {
   "cell_type": "code",
   "execution_count": 64,
   "id": "a2edbffe",
   "metadata": {},
   "outputs": [
    {
     "name": "stderr",
     "output_type": "stream",
     "text": [
      "C:\\Users\\ashut\\AppData\\Local\\Temp\\ipykernel_22924\\2264210171.py:8: RuntimeWarning: overflow encountered in double_scalars\n",
      "  internal_element=(y_hat-y[i])**2\n",
      "C:\\Users\\ashut\\AppData\\Local\\Temp\\ipykernel_22924\\228079726.py:9: RuntimeWarning: invalid value encountered in subtract\n",
      "  w=w-(alpha*a)\n",
      "C:\\Users\\ashut\\AppData\\Local\\Temp\\ipykernel_22924\\228079726.py:10: RuntimeWarning: invalid value encountered in double_scalars\n",
      "  b=b-(alpha*c)\n"
     ]
    },
    {
     "ename": "KeyboardInterrupt",
     "evalue": "",
     "output_type": "error",
     "traceback": [
      "\u001b[1;31m---------------------------------------------------------------------------\u001b[0m",
      "\u001b[1;31mKeyboardInterrupt\u001b[0m                         Traceback (most recent call last)",
      "\u001b[1;32m~\\AppData\\Local\\Temp\\ipykernel_22924\\4083775381.py\u001b[0m in \u001b[0;36m<module>\u001b[1;34m\u001b[0m\n\u001b[1;32m----> 1\u001b[1;33m \u001b[0mp\u001b[0m\u001b[1;33m,\u001b[0m\u001b[0mq\u001b[0m\u001b[1;33m,\u001b[0m\u001b[0mr\u001b[0m\u001b[1;33m=\u001b[0m\u001b[0mgradient_decent\u001b[0m\u001b[1;33m(\u001b[0m\u001b[0mx_features\u001b[0m\u001b[1;33m,\u001b[0m\u001b[0my_labels\u001b[0m\u001b[1;33m,\u001b[0m\u001b[0mw_init\u001b[0m\u001b[1;33m,\u001b[0m\u001b[0mb_init\u001b[0m\u001b[1;33m,\u001b[0m\u001b[1;36m0.01\u001b[0m\u001b[1;33m,\u001b[0m\u001b[1;36m1000\u001b[0m\u001b[1;33m)\u001b[0m\u001b[1;33m\u001b[0m\u001b[1;33m\u001b[0m\u001b[0m\n\u001b[0m",
      "\u001b[1;32m~\\AppData\\Local\\Temp\\ipykernel_22924\\228079726.py\u001b[0m in \u001b[0;36mgradient_decent\u001b[1;34m(x, y, w, b, alpha, iter_nums)\u001b[0m\n\u001b[0;32m      6\u001b[0m     \u001b[0mj_hisotry\u001b[0m\u001b[1;33m.\u001b[0m\u001b[0mappend\u001b[0m\u001b[1;33m(\u001b[0m\u001b[1;33m(\u001b[0m\u001b[0mcost_function\u001b[0m\u001b[1;33m(\u001b[0m\u001b[0mx_features\u001b[0m\u001b[1;33m,\u001b[0m\u001b[0my_labels\u001b[0m\u001b[1;33m,\u001b[0m\u001b[0mw\u001b[0m\u001b[1;33m,\u001b[0m\u001b[0mb\u001b[0m\u001b[1;33m)\u001b[0m\u001b[1;33m)\u001b[0m\u001b[1;33m)\u001b[0m\u001b[1;33m\u001b[0m\u001b[1;33m\u001b[0m\u001b[0m\n\u001b[0;32m      7\u001b[0m     \u001b[1;32mwhile\u001b[0m\u001b[1;33m(\u001b[0m\u001b[0mj\u001b[0m\u001b[1;33m<\u001b[0m\u001b[1;36m1000\u001b[0m\u001b[1;33m)\u001b[0m\u001b[1;33m:\u001b[0m\u001b[1;33m\u001b[0m\u001b[1;33m\u001b[0m\u001b[0m\n\u001b[1;32m----> 8\u001b[1;33m         \u001b[0ma\u001b[0m\u001b[1;33m,\u001b[0m\u001b[0mc\u001b[0m\u001b[1;33m=\u001b[0m\u001b[0mderivatives\u001b[0m\u001b[1;33m(\u001b[0m\u001b[0mx\u001b[0m\u001b[1;33m,\u001b[0m\u001b[0my\u001b[0m\u001b[1;33m,\u001b[0m\u001b[0mw\u001b[0m\u001b[1;33m,\u001b[0m\u001b[0mb\u001b[0m\u001b[1;33m)\u001b[0m\u001b[1;33m\u001b[0m\u001b[1;33m\u001b[0m\u001b[0m\n\u001b[0m\u001b[0;32m      9\u001b[0m         \u001b[0mw\u001b[0m\u001b[1;33m=\u001b[0m\u001b[0mw\u001b[0m\u001b[1;33m-\u001b[0m\u001b[1;33m(\u001b[0m\u001b[0malpha\u001b[0m\u001b[1;33m*\u001b[0m\u001b[0ma\u001b[0m\u001b[1;33m)\u001b[0m\u001b[1;33m\u001b[0m\u001b[1;33m\u001b[0m\u001b[0m\n\u001b[0;32m     10\u001b[0m         \u001b[0mb\u001b[0m\u001b[1;33m=\u001b[0m\u001b[0mb\u001b[0m\u001b[1;33m-\u001b[0m\u001b[1;33m(\u001b[0m\u001b[0malpha\u001b[0m\u001b[1;33m*\u001b[0m\u001b[0mc\u001b[0m\u001b[1;33m)\u001b[0m\u001b[1;33m\u001b[0m\u001b[1;33m\u001b[0m\u001b[0m\n",
      "\u001b[1;32m~\\AppData\\Local\\Temp\\ipykernel_22924\\2131151940.py\u001b[0m in \u001b[0;36mderivatives\u001b[1;34m(x, y, w, b)\u001b[0m\n\u001b[0;32m      5\u001b[0m     \u001b[0mdj_db\u001b[0m\u001b[1;33m=\u001b[0m\u001b[1;36m0\u001b[0m\u001b[1;33m\u001b[0m\u001b[1;33m\u001b[0m\u001b[0m\n\u001b[0;32m      6\u001b[0m     \u001b[1;32mfor\u001b[0m \u001b[0mi\u001b[0m \u001b[1;32min\u001b[0m \u001b[0mrange\u001b[0m\u001b[1;33m(\u001b[0m\u001b[1;36m0\u001b[0m\u001b[1;33m,\u001b[0m\u001b[0mm\u001b[0m\u001b[1;33m,\u001b[0m\u001b[1;36m1\u001b[0m\u001b[1;33m)\u001b[0m\u001b[1;33m:\u001b[0m\u001b[1;33m\u001b[0m\u001b[1;33m\u001b[0m\u001b[0m\n\u001b[1;32m----> 7\u001b[1;33m         \u001b[0my_hat\u001b[0m\u001b[1;33m=\u001b[0m\u001b[0mnp\u001b[0m\u001b[1;33m.\u001b[0m\u001b[0mdot\u001b[0m\u001b[1;33m(\u001b[0m\u001b[0mx\u001b[0m\u001b[1;33m[\u001b[0m\u001b[0mi\u001b[0m\u001b[1;33m]\u001b[0m\u001b[1;33m,\u001b[0m\u001b[0mw\u001b[0m\u001b[1;33m)\u001b[0m\u001b[1;33m+\u001b[0m\u001b[0mb\u001b[0m\u001b[1;33m\u001b[0m\u001b[1;33m\u001b[0m\u001b[0m\n\u001b[0m\u001b[0;32m      8\u001b[0m         \u001b[0mdifference\u001b[0m\u001b[1;33m=\u001b[0m\u001b[0my_hat\u001b[0m\u001b[1;33m-\u001b[0m\u001b[0my\u001b[0m\u001b[1;33m[\u001b[0m\u001b[0mi\u001b[0m\u001b[1;33m]\u001b[0m\u001b[1;33m\u001b[0m\u001b[1;33m\u001b[0m\u001b[0m\n\u001b[0;32m      9\u001b[0m         \u001b[1;32mfor\u001b[0m \u001b[0mj\u001b[0m \u001b[1;32min\u001b[0m \u001b[0mrange\u001b[0m\u001b[1;33m(\u001b[0m\u001b[1;36m0\u001b[0m\u001b[1;33m,\u001b[0m\u001b[0mn\u001b[0m\u001b[1;33m,\u001b[0m\u001b[1;36m1\u001b[0m\u001b[1;33m)\u001b[0m\u001b[1;33m:\u001b[0m\u001b[1;33m\u001b[0m\u001b[1;33m\u001b[0m\u001b[0m\n",
      "\u001b[1;32m<__array_function__ internals>\u001b[0m in \u001b[0;36mdot\u001b[1;34m(*args, **kwargs)\u001b[0m\n",
      "\u001b[1;31mKeyboardInterrupt\u001b[0m: "
     ]
    }
   ],
   "source": [
    "p,q,r=gradient_decent(x_features,y_labels,w_init,b_init,0.01,1000)"
   ]
  },
  {
   "cell_type": "markdown",
   "id": "d5e4c808",
   "metadata": {},
   "source": [
    "# Let implement Z-scale normalisation"
   ]
  },
  {
   "cell_type": "code",
   "execution_count": 28,
   "id": "162c1084",
   "metadata": {},
   "outputs": [],
   "source": [
    "def means(x,y):\n",
    "    sum1=0;\n",
    "    m=x.shape[0]\n",
    "    n=x.shape[1]\n",
    "    x_means=[]\n",
    "    #This is one method of doing it,finding the mean I mean.\n",
    "    '''for i in range(0,n,1):\n",
    "        mean=np.mean(x[:,i])\n",
    "        x_means.append(mean)\n",
    "    return(np.array(x_means))'''\n",
    "    means=np.mean(x,axis=0)\n",
    "    return(means)"
   ]
  },
  {
   "cell_type": "code",
   "execution_count": 29,
   "id": "f6496e13",
   "metadata": {},
   "outputs": [],
   "source": [
    "a=means(x_features,y_labels)"
   ]
  },
  {
   "cell_type": "code",
   "execution_count": 30,
   "id": "44142527",
   "metadata": {},
   "outputs": [
    {
     "data": {
      "text/plain": [
       "array([1.46e+03, 3.33e+00, 1.33e+00, 4.00e+01])"
      ]
     },
     "execution_count": 30,
     "metadata": {},
     "output_type": "execute_result"
    }
   ],
   "source": [
    "a"
   ]
  },
  {
   "cell_type": "code",
   "execution_count": 35,
   "id": "d3c49b87",
   "metadata": {},
   "outputs": [],
   "source": [
    "def std_deviations(x,y):\n",
    "    standard_deviation=np.std(x,axis=0)\n",
    "    return(standard_deviation)"
   ]
  },
  {
   "cell_type": "code",
   "execution_count": 40,
   "id": "5eb0e66f",
   "metadata": {},
   "outputs": [],
   "source": [
    "def normalisation(x,y):\n",
    "    m=x.shape[0]\n",
    "    n=x.shape[1]\n",
    "    j=0\n",
    "    '''while(j<n):\n",
    "        for i in range(0,m,1):\n",
    "            x[i,j]=(x[i,j]-means(x,y)[i])/std_deviations(x,y)[i]\n",
    "        j=j+1\n",
    "    return(x)'''\n",
    "    x_new=(x-means(x,y))/std_deviations(x,y)\n",
    "    return(x_new)"
   ]
  },
  {
   "cell_type": "code",
   "execution_count": 41,
   "id": "cc782100",
   "metadata": {},
   "outputs": [],
   "source": [
    "a=normalisation(x_features,y_labels)"
   ]
  },
  {
   "cell_type": "code",
   "execution_count": 42,
   "id": "5ef11594",
   "metadata": {},
   "outputs": [
    {
     "data": {
      "text/plain": [
       "array([[-1.31, -1.22, -1.07, -1.28],\n",
       "       [ 0.21,  0.  ,  1.34,  1.16],\n",
       "       [ 1.11,  1.22, -0.27,  0.12]])"
      ]
     },
     "execution_count": 42,
     "metadata": {},
     "output_type": "execute_result"
    }
   ],
   "source": [
    "a"
   ]
  },
  {
   "cell_type": "code",
   "execution_count": 43,
   "id": "142caa71",
   "metadata": {},
   "outputs": [],
   "source": [
    "#Replace x_new in place of x_features and find the y_hat"
   ]
  },
  {
   "cell_type": "code",
   "execution_count": null,
   "id": "a56c1f20",
   "metadata": {},
   "outputs": [],
   "source": []
  }
 ],
 "metadata": {
  "kernelspec": {
   "display_name": "Python 3 (ipykernel)",
   "language": "python",
   "name": "python3"
  },
  "language_info": {
   "codemirror_mode": {
    "name": "ipython",
    "version": 3
   },
   "file_extension": ".py",
   "mimetype": "text/x-python",
   "name": "python",
   "nbconvert_exporter": "python",
   "pygments_lexer": "ipython3",
   "version": "3.9.13"
  }
 },
 "nbformat": 4,
 "nbformat_minor": 5
}
